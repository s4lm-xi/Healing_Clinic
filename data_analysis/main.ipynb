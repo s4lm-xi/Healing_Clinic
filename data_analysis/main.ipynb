{
 "cells": [
  {
   "cell_type": "code",
   "execution_count": 1,
   "id": "232dd588-215d-4dcf-9820-4e19d02b4fed",
   "metadata": {},
   "outputs": [],
   "source": [
    "import pandas as pd\n",
    "import matplotlib.pyplot as plt\n",
    "import numpy as np\n",
    "plt.style.use('fivethirtyeight')"
   ]
  },
  {
   "cell_type": "code",
   "execution_count": 2,
   "id": "e96a39b3-b02c-4957-ab5c-29e90113d2e0",
   "metadata": {
    "tags": []
   },
   "outputs": [
    {
     "name": "stdout",
     "output_type": "stream",
     "text": [
      "(5000, 2)\n"
     ]
    }
   ],
   "source": [
    "starting = [1,2,3,4,5,6]\n",
    "details = []\n",
    "\n",
    "for index in range(5000):\n",
    "    ran = np.random.choice(starting)\n",
    "    \n",
    "    if ran == 1:\n",
    "        salary = [i for i in range(1000,1500, 50)]\n",
    "        ran_salary = np.random.choice(salary)\n",
    "        details.append([ran, ran_salary])\n",
    "        \n",
    "    if ran == 2:\n",
    "        salary = [i for i in range(1600,2000, 150)]\n",
    "        ran_salary = np.random.choice(salary)\n",
    "        details.append([ran, ran_salary])\n",
    "        \n",
    "    if ran == 3:\n",
    "        salary = [i for i in range(2100,3000, 200)]\n",
    "        ran_salary = np.random.choice(salary)\n",
    "        details.append([ran, ran_salary])\n",
    "        \n",
    "    if ran == 4:\n",
    "        salary = [i for i in range(3100,3700, 150)]\n",
    "        ran_salary = np.random.choice(salary)\n",
    "        details.append([ran, ran_salary])\n",
    "        \n",
    "    if ran == 5:\n",
    "        salary = [i for i in range(3800,4200, 150)]\n",
    "        ran_salary = np.random.choice(salary)\n",
    "        details.append([ran, ran_salary])\n",
    "        \n",
    "    if ran == 6:\n",
    "        salary = [i for i in range(4300,6000, 250)]\n",
    "        ran_salary = np.random.choice(salary)\n",
    "        details.append([ran, ran_salary])\n",
    "        \n",
    "data = pd.DataFrame(details)\n",
    "data.to_csv('data.csv', index=False, header=['years_experience', 'salary'])\n",
    "print(data.shape)"
   ]
  },
  {
   "cell_type": "code",
   "execution_count": 3,
   "id": "e83884a8-6793-49c3-af24-3740990652af",
   "metadata": {},
   "outputs": [
    {
     "name": "stdout",
     "output_type": "stream",
     "text": [
      "X_train shape: (4000, 1)\n",
      "Y_train shape: (4000, 1)\n",
      "X_test shape: (1000, 1)\n",
      "Y_test shape: (1000, 1)\n"
     ]
    }
   ],
   "source": [
    "data = pd.read_csv('data.csv')\n",
    "X = data.years_experience.values\n",
    "y = data.salary.values\n",
    "# Splitting to train and test set\n",
    "from sklearn.model_selection import KFold\n",
    "kf = KFold()\n",
    "\n",
    "for train_index, test_index in kf.split(X, y):\n",
    "    X_train, X_test = X[train_index], X[test_index]\n",
    "    Y_train, Y_test = y[train_index], y[test_index]\n",
    "    \n",
    "X_train = X_train.reshape(-1,1)\n",
    "X_test = X_test.reshape(-1,1)\n",
    "Y_train = Y_train.reshape(-1,1)\n",
    "Y_test = Y_test.reshape(-1,1)\n",
    "\n",
    "print(f'X_train shape: {X_train.shape}')\n",
    "print(f'Y_train shape: {Y_train.shape}')\n",
    "print(f'X_test shape: {X_test.shape}')\n",
    "print(f'Y_test shape: {Y_test.shape}')"
   ]
  },
  {
   "cell_type": "code",
   "execution_count": 6,
   "id": "7e029f36-a902-4966-997f-4253868c8428",
   "metadata": {},
   "outputs": [
    {
     "data": {
      "text/plain": [
       "['model.joblib']"
      ]
     },
     "execution_count": 6,
     "metadata": {},
     "output_type": "execute_result"
    }
   ],
   "source": [
    "from sklearn.linear_model import LinearRegression\n",
    "from sklearn.tree import DecisionTreeRegressor\n",
    "from sklearn.ensemble import RandomForestRegressor\n",
    "from sklearn.svm import SVR\n",
    "from xgboost import XGBRegressor\n",
    "from sklearn.metrics import mean_squared_error\n",
    "from tqdm import tqdm\n",
    "import time\n",
    "import joblib\n",
    "import warnings\n",
    "warnings.filterwarnings('ignore')\n",
    "    \n",
    "estimators = [LinearRegression(), DecisionTreeRegressor(),SVR(),\n",
    "              XGBRegressor(), RandomForestRegressor()]\n",
    "\n",
    "'''\n",
    "for model in estimators:\n",
    "    model.fit(X_train, Y_train)\n",
    "    Y_pred = model.predict(X_test)\n",
    "    \n",
    "    accuracy = model.score(X_test, Y_test)\n",
    "    mse = mean_squared_error(Y_test, Y_pred)\n",
    "    \n",
    "    print(f'{model} Accuracy: {accuracy}')\n",
    "    print(f'{model} Error: {mse}')\n",
    "    print('='*100)'''\n",
    "    \n",
    "model = RandomForestRegressor()\n",
    "rf = model.fit(X_train, Y_train)\n",
    "# Save\n",
    "joblib.dump(rf, \"model.joblib\")"
   ]
  },
  {
   "cell_type": "code",
   "execution_count": 56,
   "id": "59af4b01-09cc-48f7-a189-869561fe1307",
   "metadata": {},
   "outputs": [
    {
     "data": {
      "text/plain": [
       "(3200, 1)"
      ]
     },
     "execution_count": 56,
     "metadata": {},
     "output_type": "execute_result"
    }
   ],
   "source": [
    "m = X_train.reshape(-1,1)\n",
    "m.shape"
   ]
  },
  {
   "cell_type": "code",
   "execution_count": 54,
   "id": "bbf44add-e3f2-4635-9118-bbf59e411212",
   "metadata": {},
   "outputs": [
    {
     "data": {
      "text/plain": [
       "(3200,)"
      ]
     },
     "execution_count": 54,
     "metadata": {},
     "output_type": "execute_result"
    }
   ],
   "source": [
    "Y_train.shape"
   ]
  },
  {
   "cell_type": "code",
   "execution_count": 8,
   "id": "1ebf00aa-55e0-48d8-978f-c52cba76624a",
   "metadata": {},
   "outputs": [],
   "source": [
    "import joblib\n",
    "import numpy as np\n",
    "\n",
    "model = joblib.load('model.joblib')\n",
    "m = np.array([#############33])\n",
    "m = m.reshape(-1, 1)\n",
    "pred = model.predict(m)"
   ]
  }
 ],
 "metadata": {
  "kernelspec": {
   "display_name": "Python 3 (ipykernel)",
   "language": "python",
   "name": "python3"
  },
  "language_info": {
   "codemirror_mode": {
    "name": "ipython",
    "version": 3
   },
   "file_extension": ".py",
   "mimetype": "text/x-python",
   "name": "python",
   "nbconvert_exporter": "python",
   "pygments_lexer": "ipython3",
   "version": "3.9.7"
  }
 },
 "nbformat": 4,
 "nbformat_minor": 5
}
